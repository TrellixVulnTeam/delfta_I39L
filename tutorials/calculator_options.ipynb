{
 "cells": [
  {
   "cell_type": "markdown",
   "metadata": {},
   "source": [
    "# Advanced options for the DelftaCalculator"
   ]
  },
  {
   "cell_type": "markdown",
   "metadata": {},
   "source": [
    "This tutorials looks a bit more in-depth at the different options you can pass to the DelftaCalculator. You can refer to the basic tutorial ([delta_vs_direct.ipynb](delta_vs_direct.ipynb)) to get started with the default settings. Again, we'll start with imports: "
   ]
  },
  {
   "cell_type": "code",
   "execution_count": 1,
   "metadata": {},
   "outputs": [],
   "source": [
    "from openbabel.pybel import readstring\n",
    "import pandas as pd\n",
    "from delfta.calculator import DelftaCalculator"
   ]
  },
  {
   "cell_type": "markdown",
   "metadata": {},
   "source": [
    "The options for the calculator (with their respective defaults) are `tasks=None`, `delta=True`, `force3d=True`, `addh=True`, `xtbopt=False`, `verbose=True`, and `progress=True`, `return_optmols=False`, and `models=None`. `verbose` and `progress` just modify how much you see during the computation, but not the computation itself. Let's look at the other options in detail."
   ]
  },
  {
   "cell_type": "markdown",
   "metadata": {},
   "source": [
    "## Tasks"
   ]
  },
  {
   "cell_type": "markdown",
   "metadata": {},
   "source": [
    "This defines which properties the calculator should predict. You can either pass a list with any combination of the following keys, or simply leave the default (`None`) to get all the values. \n",
    "\n",
    "| Property                                      | Key         | Unit  |\n",
    "|-----------------------------------------------|-------------|-------|\n",
    "| Formation energy                              | `\"E_form\"`  | $E_h$ |\n",
    "| Energy of highest occupied molecular orbital  | `\"E_homo\"`  | $E_h$ |\n",
    "| Energy of lowest unoccupied molecular orbital | `\"E_lumo\"`  | $E_h$ |\n",
    "| HOMO-LUMO gap                                 | `\"E_gap\"`   | $E_h$ |\n",
    "| Molecular dipole                              | `\"dipole\"`  | D     |\n",
    "| Mulliken partial charges                      | `\"charges\"` | $e$   |\n",
    "| Wiberg bond orders                            | `\"wbo\"`     | -     |\n",
    "\n",
    "Note that xTB needs to be run only once for all of them (if `delta=True`, see later), and that HOMO/LUMO/gap energies and the dipole are predicted in a multi-task setting (all via the same network), so the computational cost does not scale linearly with the number of requested properties. For the Wiberg bond orders, a dictionary is returned with the atom incides (0-indexed) of the corresponding atoms as the keys, and the bond orders as values. Note that also noncovalent interactions are shown (for $\\Delta$-predictions only if the xTB-calculated value is >0.1). \n",
    "\n"
   ]
  },
  {
   "cell_type": "markdown",
   "metadata": {},
   "source": [
    "## delta"
   ]
  },
  {
   "cell_type": "markdown",
   "metadata": {},
   "source": [
    "This defines whether or not to use the $\\Delta$-prediction approach, *i.e.*, whether to compute the requested values with the semi-empirical GFN2-xTB method, and use the network to predict a correction to this value to obtain an approximation of the DFT value ($\\omega$B97X-D/def2-SVP). This is the default (`delta=True`), but you can set it to `False` to directly predict the requested properties from the molecular structure. This removes the need to compute xTB and thus speeds up the process a little bit (though this only makes a noticable differences when you run the calculator for large numbers of molecules)."
   ]
  },
  {
   "cell_type": "markdown",
   "metadata": {},
   "source": [
    "## force3d"
   ]
  },
  {
   "cell_type": "markdown",
   "metadata": {},
   "source": [
    "This defines whether you want to use the Merck Molecular Force Field 94 (MMFF94) as implemented in Openbabel to create 3D coordinates for molecules that don't have them. All the quantum mechanical properties that `DelftaCalculator` provides depend on the molecular geometry, so you really shouldn't be passing a 2D molecule and expect reasonable results (of course flat structures like benzene are fine). This defaults to `force3d=True`, and will not affect any molecules you pass that already have a 3D geometry. "
   ]
  },
  {
   "cell_type": "markdown",
   "metadata": {},
   "source": [
    "## addh"
   ]
  },
  {
   "cell_type": "markdown",
   "metadata": {},
   "source": [
    "This defines whether you want to add hydrogens to the molecule. If enabled, we're using Openbabel to check if there's hydrogens missing, and add them accordingly. Just as with `force3d`, it's important to include hydrogens in the molecule rather than using only the heavy atoms in the quantum mechanical calculations/predictions. Note that hydrogens are often omited in SMILES notation. This option also defaults to `addh=True` and won't affect any molecules that already have explicit hydrogens added. "
   ]
  },
  {
   "cell_type": "markdown",
   "metadata": {},
   "source": [
    "## xtbopt & return_optmols"
   ]
  },
  {
   "cell_type": "markdown",
   "metadata": {},
   "source": [
    "This option lets you use GFN2-xTB to optimize the 3D structure of a molecule. This can be useful if you created the conformation with a force field (or used `force3d` to do this), but want to optimize the structure a bit more thoroughly with a more precise method. Let's run the calculator twice, once generating coordinates using the MMFF94 force field, and once adding the GFN2-xTB geometry optimization to the pipeline as well."
   ]
  },
  {
   "cell_type": "code",
   "execution_count": 2,
   "metadata": {},
   "outputs": [
    {
     "name": "stderr",
     "output_type": "stream",
     "text": [
      "2021/08/31 01:00:23 PM | DelFTa | INFO: Assigned MMFF94 coordinates and added hydrogens to molecules at position(s) [0]\n",
      "2021/08/31 01:00:23 PM | DelFTa | INFO: Now running xTB...\n",
      "100%|██████████| 1/1 [00:00<00:00,  8.04it/s]\n",
      "2021/08/31 01:00:23 PM | DelFTa | INFO: Now running network for model single_energy_delta...\n",
      "100%|██████████| 1/1 [00:00<00:00, 20.89it/s]\n",
      "2021/08/31 01:00:23 PM | DelFTa | INFO: Now running network for model charges_delta...\n",
      "100%|██████████| 1/1 [00:00<00:00, 37.22it/s]\n",
      "2021/08/31 01:00:23 PM | DelFTa | INFO: Now running network for model multitask_delta...\n",
      "100%|██████████| 1/1 [00:00<00:00, 36.02it/s]\n",
      "2021/08/31 01:00:23 PM | DelFTa | INFO: Now running network for model wbo_delta...\n",
      "100%|██████████| 1/1 [00:00<00:00, 99.38it/s]\n",
      "2021/08/31 01:00:23 PM | DelFTa | INFO: Now running xTB...\n",
      "100%|██████████| 1/1 [00:01<00:00,  1.17s/it]\n",
      "2021/08/31 01:00:24 PM | DelFTa | INFO: Now running network for model single_energy_delta...\n",
      "100%|██████████| 1/1 [00:00<00:00, 22.61it/s]\n",
      "2021/08/31 01:00:24 PM | DelFTa | INFO: Now running network for model charges_delta...\n",
      "100%|██████████| 1/1 [00:00<00:00, 23.78it/s]\n",
      "2021/08/31 01:00:25 PM | DelFTa | INFO: Now running network for model multitask_delta...\n",
      "100%|██████████| 1/1 [00:00<00:00, 29.27it/s]\n",
      "2021/08/31 01:00:25 PM | DelFTa | INFO: Now running network for model wbo_delta...\n",
      "100%|██████████| 1/1 [00:00<00:00, 105.22it/s]\n"
     ]
    }
   ],
   "source": [
    "smiles = \"O=C(C)Oc1ccccc1C(=O)O\" # aspirin\n",
    "mol = readstring(\"smi\", smiles)\n",
    "calc_delta = DelftaCalculator(delta=True, xtbopt=False, return_optmols=True) \n",
    "predictions_delta_mmff94, opt_mols_mmff94 = calc_delta.predict(mol)\n",
    "opt_mol_mmff94 = opt_mols_mmff94[0]\n",
    "\n",
    "calc_delta = DelftaCalculator(delta=True, xtbopt=True, return_optmols=True) \n",
    "predictions_delta_xtb, opt_mols_xtb = calc_delta.predict(mol)\n",
    "opt_mol_xtb = opt_mols_xtb[0]"
   ]
  },
  {
   "cell_type": "markdown",
   "metadata": {},
   "source": [
    "Next, we'll visualize both outputs (interactive, so feel free to move around the molecules). As you can see, there are some small differences between the results of both methods (particularly in the planarity of the aromatic ring), and for more complicated or flexible molecules, there's a chance those will be larger. \n",
    "\n",
    "Note that the interactive visualizations may not be available online - simply download a version of the notebook to your machine to try it out. You can also go to https://github1s.com/josejimenezluna/delfta/tree/master and click on \"Show preview\" in the upper-right hand corner. "
   ]
  },
  {
   "cell_type": "code",
   "execution_count": 3,
   "metadata": {},
   "outputs": [
    {
     "data": {
      "application/3dmoljs_load.v0": "<div id=\"3dmolviewer_1630407625431815\"  style=\"position: relative; width: 1000px; height: 500px\">\n        <p id=\"3dmolwarning_1630407625431815\" style=\"background-color:#ffcccc;color:black\">You appear to be running in JupyterLab (or JavaScript failed to load for some other reason).  You need to install the 3dmol extension: <br>\n        <tt>jupyter labextension install jupyterlab_3dmol</tt></p>\n        </div>\n<script>\n\nvar loadScriptAsync = function(uri){\n  return new Promise((resolve, reject) => {\n    var tag = document.createElement('script');\n    tag.src = uri;\n    tag.async = true;\n    tag.onload = () => {\n      resolve();\n    };\n  var firstScriptTag = document.getElementsByTagName('script')[0];\n  firstScriptTag.parentNode.insertBefore(tag, firstScriptTag);\n});\n};\n\nif(typeof $3Dmolpromise === 'undefined') {\n$3Dmolpromise = null;\n  $3Dmolpromise = loadScriptAsync('https://3dmol.org/build/3Dmol.js');\n}\n\nvar viewer_1630407625431815 = null;\nvar warn = document.getElementById(\"3dmolwarning_1630407625431815\");\nif(warn) {\n    warn.parentNode.removeChild(warn);\n}\n$3Dmolpromise.then(function() {\nvar viewergrid_1630407625431815 = null;\nviewergrid_1630407625431815 = $3Dmol.createViewerGrid($(\"#3dmolviewer_1630407625431815\"),{rows: 1, cols: 2, control_all: true},{backgroundColor:\"white\"});\nviewer_1630407625431815 = viewergrid_1630407625431815[0][0];\nviewergrid_1630407625431815[0][0].zoomTo();viewergrid_1630407625431815[0][1].zoomTo();\tviewergrid_1630407625431815[0][0].removeAllModels();\n\tviewergrid_1630407625431815[0][1].removeAllModels();\n\tviewergrid_1630407625431815[0][0].addModel(\"21\\n\\nO          0.88727        0.01068       -0.14454\\nC          2.11114        0.07873       -0.23211\\nC          2.83650        1.40798       -0.24769\\nO          2.88086       -1.07950       -0.35108\\nC          4.27205       -1.19241       -0.12083\\nC          4.96432       -1.97818       -1.05959\\nC          6.34487       -2.13535       -0.94778\\nC          7.03717       -1.42286        0.02713\\nC          6.33906       -0.66390        0.97151\\nC          4.93935       -0.61144        0.96657\\nC          4.30138        0.14577        2.07879\\nO          4.86368        1.02949        2.71862\\nO          2.97972       -0.05391        2.19531\\nH          3.50457        1.60503        0.58305\\nH          3.40413        1.53629       -1.16548\\nH          2.08386        2.19276       -0.13520\\nH          4.43856       -2.46632       -1.87876\\nH          6.88452       -2.79738       -1.62271\\nH          8.12303       -1.46728        0.06551\\nH          6.89682       -0.11256        1.72553\\nH          2.58898        0.77214        2.56174\\n\",\"xyz\");\n\tviewergrid_1630407625431815[0][1].addModel(\"21\\n\\nO          0.93890        0.07340       -0.18100\\nC          2.13200        0.09000       -0.25250\\nC          2.94470        1.30240       -0.63850\\nO          2.81880       -1.05280       -0.02450\\nC          4.19170       -1.10410        0.01920\\nC          4.84510       -1.77090       -1.01090\\nC          6.22210       -1.89560       -1.00490\\nC          6.96700       -1.34230        0.02530\\nC          6.32550       -0.68070        1.05270\\nC          4.93620       -0.56140        1.07390\\nC          4.33740        0.14230        2.23790\\nO          4.95550        0.89240        2.95180\\nO          3.04600       -0.13470        2.43330\\nH          3.50010        1.67820        0.21840\\nH          3.65580        1.04740       -1.42220\\nH          2.26800        2.07690       -0.98680\\nH          4.25180       -2.19030       -1.80890\\nH          6.71390       -2.42060       -1.81000\\nH          8.04210       -1.43150        0.02760\\nH          6.88040       -0.24510        1.86980\\nH          2.70930        0.32470        3.21830\\n\",\"xyz\");\n\tviewergrid_1630407625431815[0][0].addLabel(\"MMFF94\",{\"position\": {\"x\": 3, \"y\": -3, \"z\": 0.0}});\n\tviewergrid_1630407625431815[0][1].addLabel(\"GFN2-xTB\",{\"position\": {\"x\": 3, \"y\": -3, \"z\": 0.0}});\n\tviewergrid_1630407625431815[0][0].setStyle({\"stick\": {}});\n\tviewergrid_1630407625431815[0][1].setStyle({\"stick\": {}});\n\tviewergrid_1630407625431815[0][0].zoomTo();\n\tviewergrid_1630407625431815[0][1].zoomTo();\nviewergrid_1630407625431815[0][1].render();\nviewergrid_1630407625431815[0][0].render();\n});\n</script>",
      "text/html": [
       "<div id=\"3dmolviewer_1630407625431815\"  style=\"position: relative; width: 1000px; height: 500px\">\n",
       "        <p id=\"3dmolwarning_1630407625431815\" style=\"background-color:#ffcccc;color:black\">You appear to be running in JupyterLab (or JavaScript failed to load for some other reason).  You need to install the 3dmol extension: <br>\n",
       "        <tt>jupyter labextension install jupyterlab_3dmol</tt></p>\n",
       "        </div>\n",
       "<script>\n",
       "\n",
       "var loadScriptAsync = function(uri){\n",
       "  return new Promise((resolve, reject) => {\n",
       "    var tag = document.createElement('script');\n",
       "    tag.src = uri;\n",
       "    tag.async = true;\n",
       "    tag.onload = () => {\n",
       "      resolve();\n",
       "    };\n",
       "  var firstScriptTag = document.getElementsByTagName('script')[0];\n",
       "  firstScriptTag.parentNode.insertBefore(tag, firstScriptTag);\n",
       "});\n",
       "};\n",
       "\n",
       "if(typeof $3Dmolpromise === 'undefined') {\n",
       "$3Dmolpromise = null;\n",
       "  $3Dmolpromise = loadScriptAsync('https://3dmol.org/build/3Dmol.js');\n",
       "}\n",
       "\n",
       "var viewer_1630407625431815 = null;\n",
       "var warn = document.getElementById(\"3dmolwarning_1630407625431815\");\n",
       "if(warn) {\n",
       "    warn.parentNode.removeChild(warn);\n",
       "}\n",
       "$3Dmolpromise.then(function() {\n",
       "var viewergrid_1630407625431815 = null;\n",
       "viewergrid_1630407625431815 = $3Dmol.createViewerGrid($(\"#3dmolviewer_1630407625431815\"),{rows: 1, cols: 2, control_all: true},{backgroundColor:\"white\"});\n",
       "viewer_1630407625431815 = viewergrid_1630407625431815[0][0];\n",
       "viewergrid_1630407625431815[0][0].zoomTo();viewergrid_1630407625431815[0][1].zoomTo();\tviewergrid_1630407625431815[0][0].removeAllModels();\n",
       "\tviewergrid_1630407625431815[0][1].removeAllModels();\n",
       "\tviewergrid_1630407625431815[0][0].addModel(\"21\\n\\nO          0.88727        0.01068       -0.14454\\nC          2.11114        0.07873       -0.23211\\nC          2.83650        1.40798       -0.24769\\nO          2.88086       -1.07950       -0.35108\\nC          4.27205       -1.19241       -0.12083\\nC          4.96432       -1.97818       -1.05959\\nC          6.34487       -2.13535       -0.94778\\nC          7.03717       -1.42286        0.02713\\nC          6.33906       -0.66390        0.97151\\nC          4.93935       -0.61144        0.96657\\nC          4.30138        0.14577        2.07879\\nO          4.86368        1.02949        2.71862\\nO          2.97972       -0.05391        2.19531\\nH          3.50457        1.60503        0.58305\\nH          3.40413        1.53629       -1.16548\\nH          2.08386        2.19276       -0.13520\\nH          4.43856       -2.46632       -1.87876\\nH          6.88452       -2.79738       -1.62271\\nH          8.12303       -1.46728        0.06551\\nH          6.89682       -0.11256        1.72553\\nH          2.58898        0.77214        2.56174\\n\",\"xyz\");\n",
       "\tviewergrid_1630407625431815[0][1].addModel(\"21\\n\\nO          0.93890        0.07340       -0.18100\\nC          2.13200        0.09000       -0.25250\\nC          2.94470        1.30240       -0.63850\\nO          2.81880       -1.05280       -0.02450\\nC          4.19170       -1.10410        0.01920\\nC          4.84510       -1.77090       -1.01090\\nC          6.22210       -1.89560       -1.00490\\nC          6.96700       -1.34230        0.02530\\nC          6.32550       -0.68070        1.05270\\nC          4.93620       -0.56140        1.07390\\nC          4.33740        0.14230        2.23790\\nO          4.95550        0.89240        2.95180\\nO          3.04600       -0.13470        2.43330\\nH          3.50010        1.67820        0.21840\\nH          3.65580        1.04740       -1.42220\\nH          2.26800        2.07690       -0.98680\\nH          4.25180       -2.19030       -1.80890\\nH          6.71390       -2.42060       -1.81000\\nH          8.04210       -1.43150        0.02760\\nH          6.88040       -0.24510        1.86980\\nH          2.70930        0.32470        3.21830\\n\",\"xyz\");\n",
       "\tviewergrid_1630407625431815[0][0].addLabel(\"MMFF94\",{\"position\": {\"x\": 3, \"y\": -3, \"z\": 0.0}});\n",
       "\tviewergrid_1630407625431815[0][1].addLabel(\"GFN2-xTB\",{\"position\": {\"x\": 3, \"y\": -3, \"z\": 0.0}});\n",
       "\tviewergrid_1630407625431815[0][0].setStyle({\"stick\": {}});\n",
       "\tviewergrid_1630407625431815[0][1].setStyle({\"stick\": {}});\n",
       "\tviewergrid_1630407625431815[0][0].zoomTo();\n",
       "\tviewergrid_1630407625431815[0][1].zoomTo();\n",
       "viewergrid_1630407625431815[0][1].render();\n",
       "viewergrid_1630407625431815[0][0].render();\n",
       "});\n",
       "</script>"
      ]
     },
     "metadata": {},
     "output_type": "display_data"
    }
   ],
   "source": [
    "import py3Dmol # conda install -c conda-forge py3dmol\n",
    "size=(1000,500)\n",
    "view = py3Dmol.view(width=size[0], height=size[1], linked=True, viewergrid=(1,2))\n",
    "view.removeAllModels()\n",
    "view.addModel(opt_mol_mmff94.write(\"xyz\"), \"xyz\", viewer=(0,0))\n",
    "view.addModel(opt_mol_xtb.write(\"xyz\"), \"xyz\", viewer=(0,1))\n",
    "view.addLabel(\"MMFF94\", {\"position\":{\"x\":3,\"y\":-3,\"z\":0.0}}, viewer=(0,0))\n",
    "view.addLabel(\"GFN2-xTB\", {\"position\":{\"x\":3,\"y\":-3,\"z\":0.0}}, viewer=(0,1))\n",
    "view.setStyle({'stick':{}})\n",
    "view.zoomTo()\n",
    "view.show()"
   ]
  },
  {
   "cell_type": "markdown",
   "metadata": {},
   "source": [
    "Let's also take a brief look at the resulting predictions for both geometries:"
   ]
  },
  {
   "cell_type": "code",
   "execution_count": 4,
   "metadata": {},
   "outputs": [
    {
     "data": {
      "text/html": [
       "<div>\n",
       "<style scoped>\n",
       "    .dataframe tbody tr th:only-of-type {\n",
       "        vertical-align: middle;\n",
       "    }\n",
       "\n",
       "    .dataframe tbody tr th {\n",
       "        vertical-align: top;\n",
       "    }\n",
       "\n",
       "    .dataframe thead th {\n",
       "        text-align: right;\n",
       "    }\n",
       "</style>\n",
       "<table border=\"1\" class=\"dataframe\">\n",
       "  <thead>\n",
       "    <tr style=\"text-align: right;\">\n",
       "      <th></th>\n",
       "      <th>MMFF94</th>\n",
       "      <th>GFN2-xTB</th>\n",
       "    </tr>\n",
       "  </thead>\n",
       "  <tbody>\n",
       "    <tr>\n",
       "      <th>E_form</th>\n",
       "      <td>-3.869898</td>\n",
       "      <td>-3.895676</td>\n",
       "    </tr>\n",
       "    <tr>\n",
       "      <th>E_homo</th>\n",
       "      <td>-0.345094</td>\n",
       "      <td>-0.343348</td>\n",
       "    </tr>\n",
       "    <tr>\n",
       "      <th>E_lumo</th>\n",
       "      <td>-0.011140</td>\n",
       "      <td>0.000567</td>\n",
       "    </tr>\n",
       "    <tr>\n",
       "      <th>E_gap</th>\n",
       "      <td>0.333914</td>\n",
       "      <td>0.343817</td>\n",
       "    </tr>\n",
       "    <tr>\n",
       "      <th>dipole</th>\n",
       "      <td>3.698625</td>\n",
       "      <td>3.716153</td>\n",
       "    </tr>\n",
       "  </tbody>\n",
       "</table>\n",
       "</div>"
      ],
      "text/plain": [
       "          MMFF94  GFN2-xTB\n",
       "E_form -3.869898 -3.895676\n",
       "E_homo -0.345094 -0.343348\n",
       "E_lumo -0.011140  0.000567\n",
       "E_gap   0.333914  0.343817\n",
       "dipole  3.698625  3.716153"
      ]
     },
     "execution_count": 4,
     "metadata": {},
     "output_type": "execute_result"
    }
   ],
   "source": [
    "res_mmff94 = {key: val[0] for key, val in predictions_delta_mmff94.items() if key not in [\"charges\", \"wbo\"]}\n",
    "res_xtb = {key: val[0] for key, val in predictions_delta_xtb.items() if key not in [\"charges\", \"wbo\"]}\n",
    "pd.DataFrame.from_dict({\"MMFF94\": res_mmff94, \"GFN2-xTB\": res_xtb})\n"
   ]
  },
  {
   "cell_type": "markdown",
   "metadata": {},
   "source": [
    "## models"
   ]
  },
  {
   "cell_type": "markdown",
   "metadata": {},
   "source": [
    "Here you can pass a list of paths to specific model checkpoints, if you want to use those instead of the default production models. The most straight-forward use case for this would be if you want to try out models trained on different training set sizes (which you can download from the link in the README.) Alternatively, if you trained your own models, you can pass those here as well. You can only set `tasks` or `models` manually, but not both, and if you set `models`, the corresponding `tasks` will be infered from the model names. Also make sure that you're passing the correct `delta` argument for the models you're using. Unless you modify the file yourself (`delfta/models/norm.pt`), the normalization values for the entire dataset will be used. Normalization values for the training set only are available together with the models for different training set sizes. "
   ]
  }
 ],
 "metadata": {
  "interpreter": {
   "hash": "98cf6d433ae36a73117aebd7a9d2aa2f181e76ebc480da2102b87173d53f82a4"
  },
  "kernelspec": {
   "display_name": "Python 3.7.4 64-bit ('delfta': conda)",
   "name": "python3"
  },
  "language_info": {
   "codemirror_mode": {
    "name": "ipython",
    "version": 3
   },
   "file_extension": ".py",
   "mimetype": "text/x-python",
   "name": "python",
   "nbconvert_exporter": "python",
   "pygments_lexer": "ipython3",
   "version": "3.7.4"
  },
  "orig_nbformat": 4
 },
 "nbformat": 4,
 "nbformat_minor": 2
}
